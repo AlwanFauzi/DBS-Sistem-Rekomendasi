{
 "cells": [
  {
   "cell_type": "markdown",
   "id": "f369a685",
   "metadata": {},
   "source": [
    "# Import Library dan Package"
   ]
  },
  {
   "cell_type": "code",
   "execution_count": 1,
   "id": "b821d32e",
   "metadata": {},
   "outputs": [],
   "source": [
    "# ---------------------------------------\n",
    "# Manipulasi data & utilitas umum\n",
    "# ---------------------------------------\n",
    "import pandas as pd\n",
    "import numpy as np\n",
    "\n",
    "# ---------------------------------------\n",
    "# Visualisasi\n",
    "# ---------------------------------------\n",
    "import matplotlib.pyplot as plt\n",
    "import seaborn as sns\n",
    "\n",
    "# ---------------------------------------\n",
    "# Text processing untuk CBF\n",
    "# ---------------------------------------\n",
    "from sklearn.feature_extraction.text import CountVectorizer\n",
    "from sklearn.metrics.pairwise import cosine_similarity\n",
    "\n",
    "# ---------------------------------------\n",
    "# Pra-pemrosesan & evaluasi\n",
    "# ---------------------------------------\n",
    "from sklearn.model_selection import train_test_split\n",
    "from sklearn.metrics import mean_squared_error, mean_absolute_error\n",
    "\n",
    "# ---------------------------------------\n",
    "# Deep learning untuk CF\n",
    "# ---------------------------------------\n",
    "from tensorflow.keras.models import Model\n",
    "from tensorflow.keras.layers import Input, Embedding, Flatten, Dot, Dense, Concatenate\n",
    "from tensorflow.keras.optimizers import Adam\n",
    "from tensorflow.keras.losses import MeanSquaredError\n",
    "from tensorflow.keras.callbacks import EarlyStopping\n",
    "\n",
    "# ---------------------------------------\n",
    "# Sistem & konfigurasi\n",
    "# ---------------------------------------\n",
    "import os\n",
    "import random\n",
    "\n",
    "# ---------------------------------------\n",
    "# Konfigurasi visualisasi dan runtime\n",
    "# ---------------------------------------\n",
    "pd.set_option('display.max_columns', None)"
   ]
  },
  {
   "cell_type": "markdown",
   "id": "bb2b7cb7",
   "metadata": {},
   "source": [
    "# Load Dataset"
   ]
  },
  {
   "cell_type": "code",
   "execution_count": 2,
   "id": "f31e675f",
   "metadata": {},
   "outputs": [],
   "source": [
    "# Load dataset\n",
    "movies_df = pd.read_csv('../data/movies.csv')\n",
    "ratings_df = pd.read_csv('../data/ratings.csv')"
   ]
  },
  {
   "cell_type": "code",
   "execution_count": 3,
   "id": "7fa7e146",
   "metadata": {},
   "outputs": [
    {
     "data": {
      "text/html": [
       "<div>\n",
       "<style scoped>\n",
       "    .dataframe tbody tr th:only-of-type {\n",
       "        vertical-align: middle;\n",
       "    }\n",
       "\n",
       "    .dataframe tbody tr th {\n",
       "        vertical-align: top;\n",
       "    }\n",
       "\n",
       "    .dataframe thead th {\n",
       "        text-align: right;\n",
       "    }\n",
       "</style>\n",
       "<table border=\"1\" class=\"dataframe\">\n",
       "  <thead>\n",
       "    <tr style=\"text-align: right;\">\n",
       "      <th></th>\n",
       "      <th>movieId</th>\n",
       "      <th>title</th>\n",
       "      <th>genres</th>\n",
       "    </tr>\n",
       "  </thead>\n",
       "  <tbody>\n",
       "    <tr>\n",
       "      <th>0</th>\n",
       "      <td>1</td>\n",
       "      <td>Toy Story (1995)</td>\n",
       "      <td>Adventure|Animation|Children|Comedy|Fantasy</td>\n",
       "    </tr>\n",
       "    <tr>\n",
       "      <th>1</th>\n",
       "      <td>2</td>\n",
       "      <td>Jumanji (1995)</td>\n",
       "      <td>Adventure|Children|Fantasy</td>\n",
       "    </tr>\n",
       "    <tr>\n",
       "      <th>2</th>\n",
       "      <td>3</td>\n",
       "      <td>Grumpier Old Men (1995)</td>\n",
       "      <td>Comedy|Romance</td>\n",
       "    </tr>\n",
       "    <tr>\n",
       "      <th>3</th>\n",
       "      <td>4</td>\n",
       "      <td>Waiting to Exhale (1995)</td>\n",
       "      <td>Comedy|Drama|Romance</td>\n",
       "    </tr>\n",
       "    <tr>\n",
       "      <th>4</th>\n",
       "      <td>5</td>\n",
       "      <td>Father of the Bride Part II (1995)</td>\n",
       "      <td>Comedy</td>\n",
       "    </tr>\n",
       "  </tbody>\n",
       "</table>\n",
       "</div>"
      ],
      "text/plain": [
       "   movieId                               title  \\\n",
       "0        1                    Toy Story (1995)   \n",
       "1        2                      Jumanji (1995)   \n",
       "2        3             Grumpier Old Men (1995)   \n",
       "3        4            Waiting to Exhale (1995)   \n",
       "4        5  Father of the Bride Part II (1995)   \n",
       "\n",
       "                                        genres  \n",
       "0  Adventure|Animation|Children|Comedy|Fantasy  \n",
       "1                   Adventure|Children|Fantasy  \n",
       "2                               Comedy|Romance  \n",
       "3                         Comedy|Drama|Romance  \n",
       "4                                       Comedy  "
      ]
     },
     "execution_count": 3,
     "metadata": {},
     "output_type": "execute_result"
    }
   ],
   "source": [
    "# Tampilkan 5 baris pertama dari dataset movies\n",
    "movies_df.head()"
   ]
  },
  {
   "cell_type": "code",
   "execution_count": 4,
   "id": "59ddfcee",
   "metadata": {},
   "outputs": [
    {
     "data": {
      "text/html": [
       "<div>\n",
       "<style scoped>\n",
       "    .dataframe tbody tr th:only-of-type {\n",
       "        vertical-align: middle;\n",
       "    }\n",
       "\n",
       "    .dataframe tbody tr th {\n",
       "        vertical-align: top;\n",
       "    }\n",
       "\n",
       "    .dataframe thead th {\n",
       "        text-align: right;\n",
       "    }\n",
       "</style>\n",
       "<table border=\"1\" class=\"dataframe\">\n",
       "  <thead>\n",
       "    <tr style=\"text-align: right;\">\n",
       "      <th></th>\n",
       "      <th>userId</th>\n",
       "      <th>movieId</th>\n",
       "      <th>rating</th>\n",
       "      <th>timestamp</th>\n",
       "    </tr>\n",
       "  </thead>\n",
       "  <tbody>\n",
       "    <tr>\n",
       "      <th>0</th>\n",
       "      <td>1</td>\n",
       "      <td>16</td>\n",
       "      <td>4.0</td>\n",
       "      <td>1217897793</td>\n",
       "    </tr>\n",
       "    <tr>\n",
       "      <th>1</th>\n",
       "      <td>1</td>\n",
       "      <td>24</td>\n",
       "      <td>1.5</td>\n",
       "      <td>1217895807</td>\n",
       "    </tr>\n",
       "    <tr>\n",
       "      <th>2</th>\n",
       "      <td>1</td>\n",
       "      <td>32</td>\n",
       "      <td>4.0</td>\n",
       "      <td>1217896246</td>\n",
       "    </tr>\n",
       "    <tr>\n",
       "      <th>3</th>\n",
       "      <td>1</td>\n",
       "      <td>47</td>\n",
       "      <td>4.0</td>\n",
       "      <td>1217896556</td>\n",
       "    </tr>\n",
       "    <tr>\n",
       "      <th>4</th>\n",
       "      <td>1</td>\n",
       "      <td>50</td>\n",
       "      <td>4.0</td>\n",
       "      <td>1217896523</td>\n",
       "    </tr>\n",
       "  </tbody>\n",
       "</table>\n",
       "</div>"
      ],
      "text/plain": [
       "   userId  movieId  rating   timestamp\n",
       "0       1       16     4.0  1217897793\n",
       "1       1       24     1.5  1217895807\n",
       "2       1       32     4.0  1217896246\n",
       "3       1       47     4.0  1217896556\n",
       "4       1       50     4.0  1217896523"
      ]
     },
     "execution_count": 4,
     "metadata": {},
     "output_type": "execute_result"
    }
   ],
   "source": [
    "# Tampilkan 5 baris pertama dari dataset ratings\n",
    "ratings_df.head()"
   ]
  },
  {
   "cell_type": "markdown",
   "id": "9f0f0e56",
   "metadata": {},
   "source": [
    "# Data Understanding & EDA"
   ]
  },
  {
   "cell_type": "code",
   "execution_count": 5,
   "id": "5e330edd",
   "metadata": {},
   "outputs": [
    {
     "name": "stdout",
     "output_type": "stream",
     "text": [
      "<class 'pandas.core.frame.DataFrame'>\n",
      "RangeIndex: 10329 entries, 0 to 10328\n",
      "Data columns (total 3 columns):\n",
      " #   Column   Non-Null Count  Dtype \n",
      "---  ------   --------------  ----- \n",
      " 0   movieId  10329 non-null  int64 \n",
      " 1   title    10329 non-null  object\n",
      " 2   genres   10329 non-null  object\n",
      "dtypes: int64(1), object(2)\n",
      "memory usage: 242.2+ KB\n"
     ]
    }
   ],
   "source": [
    "# Tampilkan informasi umum tentang dataset movies\n",
    "movies_df.info()"
   ]
  },
  {
   "cell_type": "code",
   "execution_count": 6,
   "id": "b45cb313",
   "metadata": {},
   "outputs": [
    {
     "name": "stdout",
     "output_type": "stream",
     "text": [
      "<class 'pandas.core.frame.DataFrame'>\n",
      "RangeIndex: 105339 entries, 0 to 105338\n",
      "Data columns (total 4 columns):\n",
      " #   Column     Non-Null Count   Dtype  \n",
      "---  ------     --------------   -----  \n",
      " 0   userId     105339 non-null  int64  \n",
      " 1   movieId    105339 non-null  int64  \n",
      " 2   rating     105339 non-null  float64\n",
      " 3   timestamp  105339 non-null  int64  \n",
      "dtypes: float64(1), int64(3)\n",
      "memory usage: 3.2 MB\n"
     ]
    }
   ],
   "source": [
    "# Tampilkan informasi umum tentang dataset movies\n",
    "ratings_df.info()"
   ]
  },
  {
   "cell_type": "code",
   "execution_count": 7,
   "id": "44e8c2c3",
   "metadata": {},
   "outputs": [
    {
     "name": "stdout",
     "output_type": "stream",
     "text": [
      "movieId    0\n",
      "title      0\n",
      "genres     0\n",
      "dtype: int64\n"
     ]
    }
   ],
   "source": [
    "# menampilkan jumlah null values di setiap kolom \n",
    "print(movies_df.isnull().sum())"
   ]
  },
  {
   "cell_type": "code",
   "execution_count": 8,
   "id": "fe3d72b8",
   "metadata": {},
   "outputs": [
    {
     "name": "stdout",
     "output_type": "stream",
     "text": [
      "userId       0\n",
      "movieId      0\n",
      "rating       0\n",
      "timestamp    0\n",
      "dtype: int64\n"
     ]
    }
   ],
   "source": [
    "# menampilkan jumlah null values di setiap kolom\n",
    "print(ratings_df.isnull().sum())"
   ]
  },
  {
   "cell_type": "code",
   "execution_count": 9,
   "id": "deb00bd4",
   "metadata": {},
   "outputs": [
    {
     "data": {
      "text/html": [
       "<div>\n",
       "<style scoped>\n",
       "    .dataframe tbody tr th:only-of-type {\n",
       "        vertical-align: middle;\n",
       "    }\n",
       "\n",
       "    .dataframe tbody tr th {\n",
       "        vertical-align: top;\n",
       "    }\n",
       "\n",
       "    .dataframe thead th {\n",
       "        text-align: right;\n",
       "    }\n",
       "</style>\n",
       "<table border=\"1\" class=\"dataframe\">\n",
       "  <thead>\n",
       "    <tr style=\"text-align: right;\">\n",
       "      <th></th>\n",
       "      <th>userId</th>\n",
       "      <th>movieId</th>\n",
       "      <th>rating</th>\n",
       "      <th>timestamp</th>\n",
       "    </tr>\n",
       "  </thead>\n",
       "  <tbody>\n",
       "    <tr>\n",
       "      <th>count</th>\n",
       "      <td>105339.000000</td>\n",
       "      <td>105339.000000</td>\n",
       "      <td>105339.000000</td>\n",
       "      <td>1.053390e+05</td>\n",
       "    </tr>\n",
       "    <tr>\n",
       "      <th>mean</th>\n",
       "      <td>364.924539</td>\n",
       "      <td>13381.312477</td>\n",
       "      <td>3.516850</td>\n",
       "      <td>1.130424e+09</td>\n",
       "    </tr>\n",
       "    <tr>\n",
       "      <th>std</th>\n",
       "      <td>197.486905</td>\n",
       "      <td>26170.456869</td>\n",
       "      <td>1.044872</td>\n",
       "      <td>1.802660e+08</td>\n",
       "    </tr>\n",
       "    <tr>\n",
       "      <th>min</th>\n",
       "      <td>1.000000</td>\n",
       "      <td>1.000000</td>\n",
       "      <td>0.500000</td>\n",
       "      <td>8.285650e+08</td>\n",
       "    </tr>\n",
       "    <tr>\n",
       "      <th>25%</th>\n",
       "      <td>192.000000</td>\n",
       "      <td>1073.000000</td>\n",
       "      <td>3.000000</td>\n",
       "      <td>9.711008e+08</td>\n",
       "    </tr>\n",
       "    <tr>\n",
       "      <th>50%</th>\n",
       "      <td>383.000000</td>\n",
       "      <td>2497.000000</td>\n",
       "      <td>3.500000</td>\n",
       "      <td>1.115154e+09</td>\n",
       "    </tr>\n",
       "    <tr>\n",
       "      <th>75%</th>\n",
       "      <td>557.000000</td>\n",
       "      <td>5991.000000</td>\n",
       "      <td>4.000000</td>\n",
       "      <td>1.275496e+09</td>\n",
       "    </tr>\n",
       "    <tr>\n",
       "      <th>max</th>\n",
       "      <td>668.000000</td>\n",
       "      <td>149532.000000</td>\n",
       "      <td>5.000000</td>\n",
       "      <td>1.452405e+09</td>\n",
       "    </tr>\n",
       "  </tbody>\n",
       "</table>\n",
       "</div>"
      ],
      "text/plain": [
       "              userId        movieId         rating     timestamp\n",
       "count  105339.000000  105339.000000  105339.000000  1.053390e+05\n",
       "mean      364.924539   13381.312477       3.516850  1.130424e+09\n",
       "std       197.486905   26170.456869       1.044872  1.802660e+08\n",
       "min         1.000000       1.000000       0.500000  8.285650e+08\n",
       "25%       192.000000    1073.000000       3.000000  9.711008e+08\n",
       "50%       383.000000    2497.000000       3.500000  1.115154e+09\n",
       "75%       557.000000    5991.000000       4.000000  1.275496e+09\n",
       "max       668.000000  149532.000000       5.000000  1.452405e+09"
      ]
     },
     "execution_count": 9,
     "metadata": {},
     "output_type": "execute_result"
    }
   ],
   "source": [
    "# Statistik deskriptif untuk ratings\n",
    "ratings_df.describe()"
   ]
  },
  {
   "cell_type": "code",
   "execution_count": 10,
   "id": "7a3b44e4",
   "metadata": {},
   "outputs": [
    {
     "data": {
      "image/png": "[encoded data removed]",
      "text/plain": [
       "<Figure size 800x500 with 1 Axes>"
      ]
     },
     "metadata": {},
     "output_type": "display_data"
    }
   ],
   "source": [
    "# Plot distribusi rating\n",
    "plt.figure(figsize=(8,5))\n",
    "sns.histplot(ratings_df['rating'], bins=10, kde=True)\n",
    "plt.title(\"Distribusi Rating Film\")\n",
    "plt.xlabel(\"Rating\")\n",
    "plt.ylabel(\"Jumlah\")\n",
    "plt.show()\n"
   ]
  },
  {
   "cell_type": "code",
   "execution_count": 11,
   "id": "3ab0e828",
   "metadata": {},
   "outputs": [
    {
     "name": "stdout",
     "output_type": "stream",
     "text": [
      "Jumlah film unik: 10329\n"
     ]
    },
    {
     "data": {
      "image/png": "[encoded data removed]",
      "text/plain": [
       "<Figure size 1000x600 with 1 Axes>"
      ]
     },
     "metadata": {},
     "output_type": "display_data"
    }
   ],
   "source": [
    "# Jumlah film unik\n",
    "print(\"Jumlah film unik:\", movies_df['movieId'].nunique())\n",
    "\n",
    "# Pisahkan genre\n",
    "movies_df['genre_list'] = movies_df['genres'].apply(lambda x: x.split('|') if isinstance(x, str) else [])\n",
    "\n",
    "# Hitung genre terbanyak\n",
    "from collections import Counter\n",
    "genre_counter = Counter([genre for genres in movies_df['genre_list'] for genre in genres])\n",
    "\n",
    "# Tampilkan genre populer\n",
    "genre_df = pd.DataFrame(genre_counter.items(), columns=['Genre', 'Jumlah']).sort_values(by='Jumlah', ascending=False)\n",
    "\n",
    "plt.figure(figsize=(10,6))\n",
    "sns.barplot(data=genre_df, x='Jumlah', y='Genre')\n",
    "plt.title(\"Distribusi Genre Film\")\n",
    "plt.xlabel(\"Jumlah Film\")\n",
    "plt.ylabel(\"Genre\")\n",
    "plt.show()\n"
   ]
  },
  {
   "cell_type": "markdown",
   "id": "3fd6c132",
   "metadata": {},
   "source": [
    "Struktur Dataset\n",
    "movies.csv memiliki 10.329 entri dan terdiri dari 3 kolom: movieId, title, dan genres.\n",
    "\n",
    "ratings.csv memiliki 105.339 entri dengan 4 kolom: userId, movieId, rating, dan timestamp.\n",
    "\n",
    "2. Statistik Deskriptif dari ratings.csv\n",
    "Rentang rating: dari 0.5 hingga 5.0.\n",
    "\n",
    "Rata-rata rating: sekitar 3.52, menunjukkan kecenderungan pengguna memberikan penilaian positif terhadap film.\n",
    "\n",
    "Mayoritas rating berada di antara 3.0 hingga 4.0, mencerminkan bahwa pengguna cenderung tidak memberikan penilaian ekstrem (terlalu rendah atau terlalu tinggi).\n",
    "\n",
    "3. Distribusi Rating Film\n",
    "📈 (Gambar Histogram + KDE)\n",
    "\n",
    "Insight:\n",
    "\n",
    "Rating 4.0 adalah yang paling umum diberikan.\n",
    "\n",
    "Jumlah rating menurun signifikan untuk nilai rendah seperti 0.5–2.0, yang menunjukkan pengguna jarang memberikan rating negatif.\n",
    "\n",
    "Kurva KDE menunjukkan distribusi yang miring ke kiri, menandakan kecenderungan optimistik dalam penilaian.\n",
    "\n",
    "4. Distribusi Genre Film\n",
    "Insight:\n",
    "\n",
    "Drama adalah genre yang paling banyak muncul, diikuti oleh Comedy, Thriller, dan Romance.\n",
    "\n",
    "Genre seperti IMAX, Film-Noir, dan Western memiliki jumlah film yang relatif sedikit.\n",
    "\n",
    "Keberagaman genre ini menjadi potensi penting untuk Content-Based Filtering, karena bisa dimanfaatkan untuk menghitung kemiripan antar film berdasarkan genre.\n",
    "\n",
    "5. Kondisi Data\n",
    "\n",
    "Missing Values:\n",
    "Berdasarkan hasil .isnull().sum() pada kedua dataset, tidak ditemukan missing values pada kolom manapun. Hal ini memastikan seluruh data dapat langsung digunakan tanpa perlu proses imputasi atau penghapusan baris/kolom.\n",
    "\n",
    "Duplikasi:\n",
    "Tidak ditemukan data duplikat pada kedua dataset setelah dilakukan pengecekan. Setiap baris pada movies.csv dan ratings.csv merepresentasikan entitas unik.\n",
    "\n",
    "Outlier:\n",
    "Pada data rating, tidak ditemukan outlier yang mencolok karena seluruh nilai rating berada pada rentang yang valid (0.5 hingga 5.0) sesuai standar MovieLens.\n",
    "\n"
   ]
  },
  {
   "cell_type": "markdown",
   "id": "5ecebdf9",
   "metadata": {},
   "source": [
    "# Data Preparation"
   ]
  },
  {
   "cell_type": "code",
   "execution_count": 12,
   "id": "9c791236",
   "metadata": {},
   "outputs": [],
   "source": [
    "# Vectorizer untuk genres\n",
    "vectorizer = CountVectorizer(token_pattern=r'[^|]+')\n",
    "genre_matrix = vectorizer.fit_transform(movies_df['genres'])\n",
    "\n",
    "# Matriks kemiripan antar film\n",
    "cosine_sim = cosine_similarity(genre_matrix)\n",
    "\n",
    "# Mapping judul ke indeks (hanya didefinisikan di sini)\n",
    "indices = pd.Series(movies_df.index, index=movies_df['title']).drop_duplicates()"
   ]
  },
  {
   "cell_type": "code",
   "execution_count": 13,
   "id": "77e567ff",
   "metadata": {},
   "outputs": [
    {
     "data": {
      "text/html": [
       "<div>\n",
       "<style scoped>\n",
       "    .dataframe tbody tr th:only-of-type {\n",
       "        vertical-align: middle;\n",
       "    }\n",
       "\n",
       "    .dataframe tbody tr th {\n",
       "        vertical-align: top;\n",
       "    }\n",
       "\n",
       "    .dataframe thead th {\n",
       "        text-align: right;\n",
       "    }\n",
       "</style>\n",
       "<table border=\"1\" class=\"dataframe\">\n",
       "  <thead>\n",
       "    <tr style=\"text-align: right;\">\n",
       "      <th></th>\n",
       "      <th>userId</th>\n",
       "      <th>movieId</th>\n",
       "      <th>rating</th>\n",
       "    </tr>\n",
       "  </thead>\n",
       "  <tbody>\n",
       "    <tr>\n",
       "      <th>0</th>\n",
       "      <td>1</td>\n",
       "      <td>16</td>\n",
       "      <td>4.0</td>\n",
       "    </tr>\n",
       "    <tr>\n",
       "      <th>1</th>\n",
       "      <td>1</td>\n",
       "      <td>24</td>\n",
       "      <td>1.5</td>\n",
       "    </tr>\n",
       "    <tr>\n",
       "      <th>2</th>\n",
       "      <td>1</td>\n",
       "      <td>32</td>\n",
       "      <td>4.0</td>\n",
       "    </tr>\n",
       "    <tr>\n",
       "      <th>3</th>\n",
       "      <td>1</td>\n",
       "      <td>47</td>\n",
       "      <td>4.0</td>\n",
       "    </tr>\n",
       "    <tr>\n",
       "      <th>4</th>\n",
       "      <td>1</td>\n",
       "      <td>50</td>\n",
       "      <td>4.0</td>\n",
       "    </tr>\n",
       "  </tbody>\n",
       "</table>\n",
       "</div>"
      ],
      "text/plain": [
       "   userId  movieId  rating\n",
       "0       1       16     4.0\n",
       "1       1       24     1.5\n",
       "2       1       32     4.0\n",
       "3       1       47     4.0\n",
       "4       1       50     4.0"
      ]
     },
     "execution_count": 13,
     "metadata": {},
     "output_type": "execute_result"
    }
   ],
   "source": [
    "# menghapus kolom timestamp dari ratings_df\n",
    "ratings = ratings_df.drop('timestamp', axis=1)\n",
    "ratings.head()"
   ]
  },
  {
   "cell_type": "code",
   "execution_count": 14,
   "id": "07903e8c",
   "metadata": {},
   "outputs": [
    {
     "name": "stdout",
     "output_type": "stream",
     "text": [
      "Jumlah unik user: 668\n",
      "Jumlah unik movie: 10325\n"
     ]
    }
   ],
   "source": [
    "from sklearn.preprocessing import LabelEncoder\n",
    "\n",
    "# Menggunakan LabelEncoder untuk mengubah userId dan movieId menjadi numerik\n",
    "user_enc = LabelEncoder()\n",
    "movie_enc = LabelEncoder()\n",
    "\n",
    "# Mengubah userId dan movieId menjadi numerik\n",
    "ratings['user'] = user_enc.fit_transform(ratings['userId'].values)\n",
    "ratings['movie'] = movie_enc.fit_transform(ratings['movieId'].values)\n",
    "\n",
    "# Menghapus kolom userId dan movieId yang asli\n",
    "num_users = ratings['user'].nunique()\n",
    "num_movies = ratings['movie'].nunique()\n",
    "\n",
    "# print(\"Jumlah unik userId:\", ratings['userId'].nunique())\n",
    "print(\"Jumlah unik user:\", num_users)\n",
    "print(\"Jumlah unik movie:\", num_movies)"
   ]
  },
  {
   "cell_type": "code",
   "execution_count": 15,
   "id": "f08ab7e6",
   "metadata": {},
   "outputs": [],
   "source": [
    "# memisahkan fitur dan target\n",
    "X = ratings[['user', 'movie']].values\n",
    "y = ratings['rating'].values"
   ]
  },
  {
   "cell_type": "markdown",
   "id": "fadc3024",
   "metadata": {},
   "source": [
    "# Content-Based Filtering"
   ]
  },
  {
   "cell_type": "markdown",
   "id": "1892e401",
   "metadata": {},
   "source": [
    "## Modeling"
   ]
  },
  {
   "cell_type": "markdown",
   "id": "59aa98a5",
   "metadata": {},
   "source": [
    "Langkah-langkah:\n",
    "1. Ekstraksi Fitur: Gunakan genres dari dataset movies.csv.\n",
    "\n",
    "2. Representasi Fitur: Transformasi dengan CountVectorizer().\n",
    "\n",
    "3. Perhitungan Similarity: Menggunakan cosine similarity antar film.\n",
    "\n",
    "4. Fungsi Rekomendasi: Berdasarkan film yang dipilih, cari film paling mirip."
   ]
  },
  {
   "cell_type": "code",
   "execution_count": 16,
   "id": "24885587",
   "metadata": {},
   "outputs": [],
   "source": [
    "# Vectorizer untuk genres\n",
    "vectorizer = CountVectorizer(token_pattern=r'[^|]+')\n",
    "genre_matrix = vectorizer.fit_transform(movies_df['genres'])\n",
    "\n",
    "# Matriks kemiripan antar film\n",
    "cosine_sim = cosine_similarity(genre_matrix)\n",
    "\n",
    "# Mapping judul ke indeks\n",
    "indices = pd.Series(movies_df.index, index=movies_df['title']).drop_duplicates()\n"
   ]
  },
  {
   "cell_type": "code",
   "execution_count": 17,
   "id": "0b0b4f38",
   "metadata": {},
   "outputs": [],
   "source": [
    "# Fungsi rekomendasi\n",
    "def recommend_movies_cbf(title, num_recommendations=10):\n",
    "    idx = indices[title]\n",
    "    sim_scores = list(enumerate(cosine_sim[idx]))\n",
    "    sim_scores = sorted(sim_scores, key=lambda x: x[1], reverse=True)[1:num_recommendations+1]\n",
    "    movie_indices = [i[0] for i in sim_scores]\n",
    "    return movies_df.iloc[movie_indices][['title', 'genres']]"
   ]
  },
  {
   "cell_type": "markdown",
   "id": "50c18a40",
   "metadata": {},
   "source": [
    "## Evaluasi"
   ]
  },
  {
   "cell_type": "code",
   "execution_count": 18,
   "id": "fc5b2757",
   "metadata": {},
   "outputs": [
    {
     "data": {
      "text/html": [
       "<div>\n",
       "<style scoped>\n",
       "    .dataframe tbody tr th:only-of-type {\n",
       "        vertical-align: middle;\n",
       "    }\n",
       "\n",
       "    .dataframe tbody tr th {\n",
       "        vertical-align: top;\n",
       "    }\n",
       "\n",
       "    .dataframe thead th {\n",
       "        text-align: right;\n",
       "    }\n",
       "</style>\n",
       "<table border=\"1\" class=\"dataframe\">\n",
       "  <thead>\n",
       "    <tr style=\"text-align: right;\">\n",
       "      <th></th>\n",
       "      <th>title</th>\n",
       "      <th>genres</th>\n",
       "    </tr>\n",
       "  </thead>\n",
       "  <tbody>\n",
       "    <tr>\n",
       "      <th>1815</th>\n",
       "      <td>Antz (1998)</td>\n",
       "      <td>Adventure|Animation|Children|Comedy|Fantasy</td>\n",
       "    </tr>\n",
       "    <tr>\n",
       "      <th>2496</th>\n",
       "      <td>Toy Story 2 (1999)</td>\n",
       "      <td>Adventure|Animation|Children|Comedy|Fantasy</td>\n",
       "    </tr>\n",
       "    <tr>\n",
       "      <th>2967</th>\n",
       "      <td>Adventures of Rocky and Bullwinkle, The (2000)</td>\n",
       "      <td>Adventure|Animation|Children|Comedy|Fantasy</td>\n",
       "    </tr>\n",
       "    <tr>\n",
       "      <th>3166</th>\n",
       "      <td>Emperor's New Groove, The (2000)</td>\n",
       "      <td>Adventure|Animation|Children|Comedy|Fantasy</td>\n",
       "    </tr>\n",
       "    <tr>\n",
       "      <th>3811</th>\n",
       "      <td>Monsters, Inc. (2001)</td>\n",
       "      <td>Adventure|Animation|Children|Comedy|Fantasy</td>\n",
       "    </tr>\n",
       "    <tr>\n",
       "      <th>6617</th>\n",
       "      <td>DuckTales: The Movie - Treasure of the Lost La...</td>\n",
       "      <td>Adventure|Animation|Children|Comedy|Fantasy</td>\n",
       "    </tr>\n",
       "    <tr>\n",
       "      <th>6997</th>\n",
       "      <td>Wild, The (2006)</td>\n",
       "      <td>Adventure|Animation|Children|Comedy|Fantasy</td>\n",
       "    </tr>\n",
       "    <tr>\n",
       "      <th>7382</th>\n",
       "      <td>Shrek the Third (2007)</td>\n",
       "      <td>Adventure|Animation|Children|Comedy|Fantasy</td>\n",
       "    </tr>\n",
       "    <tr>\n",
       "      <th>7987</th>\n",
       "      <td>Tale of Despereaux, The (2008)</td>\n",
       "      <td>Adventure|Animation|Children|Comedy|Fantasy</td>\n",
       "    </tr>\n",
       "    <tr>\n",
       "      <th>9215</th>\n",
       "      <td>Asterix and the Vikings (Astérix et les Viking...</td>\n",
       "      <td>Adventure|Animation|Children|Comedy|Fantasy</td>\n",
       "    </tr>\n",
       "  </tbody>\n",
       "</table>\n",
       "</div>"
      ],
      "text/plain": [
       "                                                  title  \\\n",
       "1815                                        Antz (1998)   \n",
       "2496                                 Toy Story 2 (1999)   \n",
       "2967     Adventures of Rocky and Bullwinkle, The (2000)   \n",
       "3166                   Emperor's New Groove, The (2000)   \n",
       "3811                              Monsters, Inc. (2001)   \n",
       "6617  DuckTales: The Movie - Treasure of the Lost La...   \n",
       "6997                                   Wild, The (2006)   \n",
       "7382                             Shrek the Third (2007)   \n",
       "7987                     Tale of Despereaux, The (2008)   \n",
       "9215  Asterix and the Vikings (Astérix et les Viking...   \n",
       "\n",
       "                                           genres  \n",
       "1815  Adventure|Animation|Children|Comedy|Fantasy  \n",
       "2496  Adventure|Animation|Children|Comedy|Fantasy  \n",
       "2967  Adventure|Animation|Children|Comedy|Fantasy  \n",
       "3166  Adventure|Animation|Children|Comedy|Fantasy  \n",
       "3811  Adventure|Animation|Children|Comedy|Fantasy  \n",
       "6617  Adventure|Animation|Children|Comedy|Fantasy  \n",
       "6997  Adventure|Animation|Children|Comedy|Fantasy  \n",
       "7382  Adventure|Animation|Children|Comedy|Fantasy  \n",
       "7987  Adventure|Animation|Children|Comedy|Fantasy  \n",
       "9215  Adventure|Animation|Children|Comedy|Fantasy  "
      ]
     },
     "execution_count": 18,
     "metadata": {},
     "output_type": "execute_result"
    }
   ],
   "source": [
    "recommend_movies_cbf('Toy Story (1995)', 10)"
   ]
  },
  {
   "cell_type": "markdown",
   "id": "3e232f3a",
   "metadata": {},
   "source": [
    "Evaluasi CBF (Kualitatif)\n",
    "- Evaluasi pada sistem CBF bersifat kualitatif → apakah hasil rekomendasi memang relevan berdasarkan genre film.\n",
    "\n",
    "- Misal dalam contoh disini memilih film 'Toy Story (1995)', maka rekomendasi yang muncul cenderung film dengan genre Animation | Children | Comedy."
   ]
  },
  {
   "cell_type": "code",
   "execution_count": 19,
   "id": "502717a5",
   "metadata": {},
   "outputs": [
    {
     "name": "stdout",
     "output_type": "stream",
     "text": [
      "Precision@5: 1.00\n"
     ]
    }
   ],
   "source": [
    "# Precision@K untuk evaluasi CBF\n",
    "def precision_at_k(recommended_titles, reference_title, k=5):\n",
    "    # Ambil genre referensi\n",
    "    ref_genres = set(movies_df[movies_df['title'] == reference_title]['genres'].iloc[0].split('|'))\n",
    "    relevant = 0\n",
    "    for title in recommended_titles[:k]:\n",
    "        rec_genres = set(movies_df[movies_df['title'] == title]['genres'].iloc[0].split('|'))\n",
    "        if len(ref_genres & rec_genres) > 0:\n",
    "            relevant += 1\n",
    "    return relevant / k\n",
    "\n",
    "# Contoh penggunaan Precision@K\n",
    "cbf_result = recommend_movies_cbf('Toy Story (1995)', 10)\n",
    "recommended_titles = cbf_result['title'].tolist()\n",
    "precision5 = precision_at_k(recommended_titles, 'Toy Story (1995)', k=5)\n",
    "print(f\"Precision@5: {precision5:.2f}\")"
   ]
  },
  {
   "cell_type": "markdown",
   "id": "671c0fc3",
   "metadata": {},
   "source": [
    "Evaluasi CBF (Kuantitatif)\n",
    "\n",
    "- **Precision@K** digunakan untuk mengukur proporsi rekomendasi teratas yang relevan dengan film referensi berdasarkan genre.\n",
    "- Rumus:  \n",
    "\n",
    "  Precision@K = (jumlah rekomendasi relevan dalam top-K) ÷ K\n",
    "  \n",
    "- hasil Precision@5 = 1.00, artinya 100% dari 5 rekomendasi teratas memiliki genre yang sama dengan film referensi."
   ]
  },
  {
   "cell_type": "code",
   "execution_count": 20,
   "id": "6a9b44aa",
   "metadata": {},
   "outputs": [
    {
     "name": "stdout",
     "output_type": "stream",
     "text": [
      "Recall@5: 1.00\n"
     ]
    }
   ],
   "source": [
    "# Recall@K untuk evaluasi CBF\n",
    "def recall_at_k(recommended_titles, reference_title, k=5):\n",
    "    # Ambil genre referensi\n",
    "    ref_genres = set(movies_df[movies_df['title'] == reference_title]['genres'].iloc[0].split('|'))\n",
    "    # Hitung jumlah genre unik pada film referensi (sebagai \"jumlah relevan sebenarnya\")\n",
    "    total_relevant = len(ref_genres)\n",
    "    # Hitung genre yang berhasil ter-rekomendasi di top-K\n",
    "    found_genres = set()\n",
    "    for title in recommended_titles[:k]:\n",
    "        rec_genres = set(movies_df[movies_df['title'] == title]['genres'].iloc[0].split('|'))\n",
    "        found_genres.update(ref_genres & rec_genres)\n",
    "    return len(found_genres) / total_relevant if total_relevant > 0 else 0\n",
    "\n",
    "# Contoh penggunaan Recall@K\n",
    "recall5 = recall_at_k(recommended_titles, 'Toy Story (1995)', k=5)\n",
    "print(f\"Recall@5: {recall5:.2f}\")"
   ]
  },
  {
   "cell_type": "markdown",
   "id": "71a21a47",
   "metadata": {},
   "source": [
    "Evaluasi CBF (Kuantitatif)\n",
    "\n",
    "- **Recall@K** digunakan untuk mengukur seberapa banyak genre dari film referensi yang berhasil terwakili dalam rekomendasi top-K.\n",
    "- Rumus:  \n",
    "\n",
    "  Recall@K = (jumlah genre film referensi yang ada di top-K) ÷ (jumlah genre film referensi)\n",
    "\n",
    "- Hasil Recall@5 = 1.00, artinya seluruh genre dari film referensi berhasil muncul pada 5 rekomendasi teratas."
   ]
  },
  {
   "cell_type": "markdown",
   "id": "27c4bab9",
   "metadata": {},
   "source": [
    "# Collaborative Filtering (CF) dengan RecommenderNet"
   ]
  },
  {
   "cell_type": "markdown",
   "id": "10c9518e",
   "metadata": {},
   "source": [
    "## Modeling"
   ]
  },
  {
   "cell_type": "markdown",
   "id": "3769dac0",
   "metadata": {},
   "source": [
    "Langkah-langkah:\n",
    "1. Split data: train dan test.\n",
    "\n",
    "2. Bangun model RecommenderNet → arsitektur embedding untuk representasi vektor laten pengguna & film.\n",
    "\n",
    "3. Latih model dengan Adam optimizer + fungsi loss MSE.\n",
    "\n",
    "4. Evaluasi dengan Root Mean Squared Error (RMSE).\n",
    "\n",
    "5. Buat fungsi rekomendasi khusus user."
   ]
  },
  {
   "cell_type": "code",
   "execution_count": 21,
   "id": "3443a657",
   "metadata": {},
   "outputs": [],
   "source": [
    "# Train-test split\n",
    "x = ratings[['user', 'movie']].values\n",
    "y = ratings['rating'].values\n",
    "x_train, x_test, y_train, y_test = train_test_split(x, y, test_size=0.2, random_state=42)\n"
   ]
  },
  {
   "cell_type": "code",
   "execution_count": 22,
   "id": "35935e11",
   "metadata": {},
   "outputs": [],
   "source": [
    "# Model RecommenderNet\n",
    "user_input = Input(shape=(1,))\n",
    "movie_input = Input(shape=(1,))\n",
    "user_embedding = Embedding(num_users, 50)(user_input)\n",
    "movie_embedding = Embedding(num_movies, 50)(movie_input)\n",
    "user_vec = Flatten()(user_embedding)\n",
    "movie_vec = Flatten()(movie_embedding)\n",
    "dot = Dot(axes=1)([user_vec, movie_vec])\n",
    "output = Dense(1, activation='linear')(dot)\n",
    "model = Model([user_input, movie_input], output)\n",
    "model.compile(loss='mse', optimizer=Adam(learning_rate=0.001))"
   ]
  },
  {
   "cell_type": "code",
   "execution_count": 23,
   "id": "242cafff",
   "metadata": {},
   "outputs": [
    {
     "name": "stdout",
     "output_type": "stream",
     "text": [
      "Epoch 1/10\n",
      "\u001b[1m1317/1317\u001b[0m \u001b[32m━━━━━━━━━━━━━━━━━━━━\u001b[0m\u001b[37m\u001b[0m \u001b[1m18s\u001b[0m 12ms/step - loss: 10.5108 - val_loss: 1.5627\n",
      "Epoch 2/10\n",
      "\u001b[1m1317/1317\u001b[0m \u001b[32m━━━━━━━━━━━━━━━━━━━━\u001b[0m\u001b[37m\u001b[0m \u001b[1m15s\u001b[0m 11ms/step - loss: 1.1540 - val_loss: 1.0109\n",
      "Epoch 3/10\n",
      "\u001b[1m1317/1317\u001b[0m \u001b[32m━━━━━━━━━━━━━━━━━━━━\u001b[0m\u001b[37m\u001b[0m \u001b[1m15s\u001b[0m 11ms/step - loss: 0.6864 - val_loss: 0.9453\n",
      "Epoch 4/10\n",
      "\u001b[1m1317/1317\u001b[0m \u001b[32m━━━━━━━━━━━━━━━━━━━━\u001b[0m\u001b[37m\u001b[0m \u001b[1m14s\u001b[0m 11ms/step - loss: 0.5142 - val_loss: 0.9479\n",
      "Epoch 5/10\n",
      "\u001b[1m1317/1317\u001b[0m \u001b[32m━━━━━━━━━━━━━━━━━━━━\u001b[0m\u001b[37m\u001b[0m \u001b[1m15s\u001b[0m 11ms/step - loss: 0.3896 - val_loss: 0.9537\n",
      "Epoch 6/10\n",
      "\u001b[1m1317/1317\u001b[0m \u001b[32m━━━━━━━━━━━━━━━━━━━━\u001b[0m\u001b[37m\u001b[0m \u001b[1m20s\u001b[0m 11ms/step - loss: 0.2911 - val_loss: 0.9896\n",
      "Epoch 7/10\n",
      "\u001b[1m1317/1317\u001b[0m \u001b[32m━━━━━━━━━━━━━━━━━━━━\u001b[0m\u001b[37m\u001b[0m \u001b[1m15s\u001b[0m 11ms/step - loss: 0.2224 - val_loss: 1.0013\n",
      "Epoch 8/10\n",
      "\u001b[1m1317/1317\u001b[0m \u001b[32m━━━━━━━━━━━━━━━━━━━━\u001b[0m\u001b[37m\u001b[0m \u001b[1m23s\u001b[0m 13ms/step - loss: 0.1725 - val_loss: 1.0234\n",
      "Epoch 9/10\n",
      "\u001b[1m1317/1317\u001b[0m \u001b[32m━━━━━━━━━━━━━━━━━━━━\u001b[0m\u001b[37m\u001b[0m \u001b[1m18s\u001b[0m 14ms/step - loss: 0.1372 - val_loss: 1.0307\n",
      "Epoch 10/10\n",
      "\u001b[1m1317/1317\u001b[0m \u001b[32m━━━━━━━━━━━━━━━━━━━━\u001b[0m\u001b[37m\u001b[0m \u001b[1m17s\u001b[0m 13ms/step - loss: 0.1129 - val_loss: 1.0407\n"
     ]
    }
   ],
   "source": [
    "# Training\n",
    "history = model.fit([x_train[:,0], x_train[:,1]], y_train,\n",
    "                    validation_data=([x_test[:,0], x_test[:,1]], y_test),\n",
    "                    epochs=10, batch_size=64)"
   ]
  },
  {
   "cell_type": "markdown",
   "id": "9f153470",
   "metadata": {},
   "source": [
    "## Evaluasi"
   ]
  },
  {
   "cell_type": "code",
   "execution_count": 24,
   "id": "1bd86f74",
   "metadata": {},
   "outputs": [
    {
     "name": "stdout",
     "output_type": "stream",
     "text": [
      "\u001b[1m659/659\u001b[0m \u001b[32m━━━━━━━━━━━━━━━━━━━━\u001b[0m\u001b[37m\u001b[0m \u001b[1m1s\u001b[0m 2ms/step\n",
      "RMSE: 1.0202\n"
     ]
    }
   ],
   "source": [
    "# Evaluasi RMSE\n",
    "y_pred = model.predict([x_test[:,0], x_test[:,1]]).flatten()\n",
    "rmse = np.sqrt(mean_squared_error(y_test, y_pred))\n",
    "print(f\"RMSE: {rmse:.4f}\")"
   ]
  },
  {
   "cell_type": "markdown",
   "id": "61c3ba2b",
   "metadata": {},
   "source": [
    "### Fungsi Rekomendasi Personalized untuk User"
   ]
  },
  {
   "cell_type": "code",
   "execution_count": 25,
   "id": "01394a39",
   "metadata": {},
   "outputs": [
    {
     "name": "stdout",
     "output_type": "stream",
     "text": [
      "\u001b[1m323/323\u001b[0m \u001b[32m━━━━━━━━━━━━━━━━━━━━\u001b[0m\u001b[37m\u001b[0m \u001b[1m1s\u001b[0m 2ms/step\n"
     ]
    },
    {
     "data": {
      "text/html": [
       "<div>\n",
       "<style scoped>\n",
       "    .dataframe tbody tr th:only-of-type {\n",
       "        vertical-align: middle;\n",
       "    }\n",
       "\n",
       "    .dataframe tbody tr th {\n",
       "        vertical-align: top;\n",
       "    }\n",
       "\n",
       "    .dataframe thead th {\n",
       "        text-align: right;\n",
       "    }\n",
       "</style>\n",
       "<table border=\"1\" class=\"dataframe\">\n",
       "  <thead>\n",
       "    <tr style=\"text-align: right;\">\n",
       "      <th></th>\n",
       "      <th>movieId</th>\n",
       "      <th>title</th>\n",
       "      <th>genres</th>\n",
       "    </tr>\n",
       "  </thead>\n",
       "  <tbody>\n",
       "    <tr>\n",
       "      <th>170</th>\n",
       "      <td>198</td>\n",
       "      <td>Strange Days (1995)</td>\n",
       "      <td>Action|Crime|Drama|Mystery|Sci-Fi|Thriller</td>\n",
       "    </tr>\n",
       "    <tr>\n",
       "      <th>231</th>\n",
       "      <td>261</td>\n",
       "      <td>Little Women (1994)</td>\n",
       "      <td>Drama</td>\n",
       "    </tr>\n",
       "    <tr>\n",
       "      <th>263</th>\n",
       "      <td>300</td>\n",
       "      <td>Quiz Show (1994)</td>\n",
       "      <td>Drama</td>\n",
       "    </tr>\n",
       "    <tr>\n",
       "      <th>389</th>\n",
       "      <td>441</td>\n",
       "      <td>Dazed and Confused (1993)</td>\n",
       "      <td>Comedy</td>\n",
       "    </tr>\n",
       "    <tr>\n",
       "      <th>842</th>\n",
       "      <td>1035</td>\n",
       "      <td>Sound of Music, The (1965)</td>\n",
       "      <td>Musical|Romance</td>\n",
       "    </tr>\n",
       "    <tr>\n",
       "      <th>1525</th>\n",
       "      <td>1959</td>\n",
       "      <td>Out of Africa (1985)</td>\n",
       "      <td>Drama|Romance</td>\n",
       "    </tr>\n",
       "    <tr>\n",
       "      <th>1673</th>\n",
       "      <td>2114</td>\n",
       "      <td>Outsiders, The (1983)</td>\n",
       "      <td>Drama</td>\n",
       "    </tr>\n",
       "    <tr>\n",
       "      <th>2197</th>\n",
       "      <td>2746</td>\n",
       "      <td>Little Shop of Horrors (1986)</td>\n",
       "      <td>Comedy|Horror|Musical</td>\n",
       "    </tr>\n",
       "    <tr>\n",
       "      <th>4486</th>\n",
       "      <td>5991</td>\n",
       "      <td>Chicago (2002)</td>\n",
       "      <td>Comedy|Crime|Drama|Musical</td>\n",
       "    </tr>\n",
       "    <tr>\n",
       "      <th>7762</th>\n",
       "      <td>60074</td>\n",
       "      <td>Hancock (2008)</td>\n",
       "      <td>Action|Adventure|Comedy|Crime|Fantasy</td>\n",
       "    </tr>\n",
       "  </tbody>\n",
       "</table>\n",
       "</div>"
      ],
      "text/plain": [
       "      movieId                          title  \\\n",
       "170       198            Strange Days (1995)   \n",
       "231       261            Little Women (1994)   \n",
       "263       300               Quiz Show (1994)   \n",
       "389       441      Dazed and Confused (1993)   \n",
       "842      1035     Sound of Music, The (1965)   \n",
       "1525     1959           Out of Africa (1985)   \n",
       "1673     2114          Outsiders, The (1983)   \n",
       "2197     2746  Little Shop of Horrors (1986)   \n",
       "4486     5991                 Chicago (2002)   \n",
       "7762    60074                 Hancock (2008)   \n",
       "\n",
       "                                          genres  \n",
       "170   Action|Crime|Drama|Mystery|Sci-Fi|Thriller  \n",
       "231                                        Drama  \n",
       "263                                        Drama  \n",
       "389                                       Comedy  \n",
       "842                              Musical|Romance  \n",
       "1525                               Drama|Romance  \n",
       "1673                                       Drama  \n",
       "2197                       Comedy|Horror|Musical  \n",
       "4486                  Comedy|Crime|Drama|Musical  \n",
       "7762       Action|Adventure|Comedy|Crime|Fantasy  "
      ]
     },
     "execution_count": 25,
     "metadata": {},
     "output_type": "execute_result"
    }
   ],
   "source": [
    "def recommend_movies_cf(user_id, num_recommendations=10):\n",
    "    encoded_user_id = user_enc.transform([user_id])[0]\n",
    "    movie_ids = np.arange(num_movies)\n",
    "    user_array = np.full(shape=num_movies, fill_value=encoded_user_id)\n",
    "    predictions = model.predict([user_array, movie_ids]).flatten()\n",
    "    top_indices = predictions.argsort()[-num_recommendations:][::-1]\n",
    "    recommended_movie_ids = movie_enc.inverse_transform(top_indices)\n",
    "    return movies_df[movies_df['movieId'].isin(recommended_movie_ids)][['movieId', 'title', 'genres']]\n",
    "\n",
    "# Contoh penggunaan\n",
    "recommend_movies_cf(user_id=100, num_recommendations=10)"
   ]
  },
  {
   "cell_type": "markdown",
   "id": "5808c547",
   "metadata": {},
   "source": [
    "Evaluasi Collaborative Filtering\n",
    "\n",
    "    Root Mean Squared Error (RMSE): 1.0202\n",
    "\n",
    "✅ Interpretasi:\n",
    "1. RMSE mengukur seberapa jauh rata-rata prediksi model terhadap nilai rating sebenarnya.\n",
    "2. Semakin rendah RMSE → semakin baik prediksi model.\n",
    "3. RMSE ≈ 1.0202 tergolong cukup baik, mengingat skala rating adalah 0.5 - 5.0.\n",
    "Artinya, rata-rata kesalahan prediksi sekitar ±1 rating point, masih tergolong wajar dalam skenario sistem rekomendasi film."
   ]
  },
  {
   "cell_type": "markdown",
   "id": "ef68cb8e",
   "metadata": {},
   "source": []
  }
 ],
 "metadata": {
  "kernelspec": {
   "display_name": "venv",
   "language": "python",
   "name": "python3"
  },
  "language_info": {
   "codemirror_mode": {
    "name": "ipython",
    "version": 3
   },
   "file_extension": ".py",
   "mimetype": "text/x-python",
   "name": "python",
   "nbconvert_exporter": "python",
   "pygments_lexer": "ipython3",
   "version": "3.12.7"
  }
 },
 "nbformat": 4,
 "nbformat_minor": 5
}
